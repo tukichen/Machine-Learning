{
 "cells": [
  {
   "cell_type": "markdown",
   "metadata": {},
   "source": [
    "## Numpy Array Manipulation "
   ]
  },
  {
   "cell_type": "code",
   "execution_count": 1,
   "metadata": {},
   "outputs": [],
   "source": [
    "import numpy as np\n",
    "import matplotlib as mpl\n",
    "import matplotlib.pyplot as plt\n",
    "from matplotlib import cm\n",
    "from mpl_toolkits.mplot3d import Axes3D\n",
    "%matplotlib inline\n",
    "\n",
    "import time\n",
    "from scipy import stats\n",
    "from scipy.optimize import leastsq\n",
    "import scipy.optimize as opt\n",
    "from scipy.stats import norm, poisson\n",
    "# from scipy.interpolate import BarycentricInterpolator, CubicSpline\n",
    "\n",
    "import math\n",
    "#import seaborn"
   ]
  },
  {
   "cell_type": "code",
   "execution_count": 2,
   "metadata": {
    "collapsed": true
   },
   "outputs": [],
   "source": [
    "def residual(t, X, y):\n",
    "    ''' Quadratic function: f(x) = t[0]* x**2 + t[1]* x + t[2] '''\n",
    "    return y-(t[0]* x**2 + t[1]*x + t[2])\n",
    "\n",
    "def residual2(t, X, y):\n",
    "    ''' function: f(x) = t0*sin(t1* x) + t2  '''\n",
    "    print( t[0], t[1])\n",
    "    return y-(t[0]* np.sin(t[1]* x) + t[2])"
   ]
  },
  {
   "cell_type": "code",
   "execution_count": 3,
   "metadata": {
    "collapsed": true
   },
   "outputs": [],
   "source": [
    "# x ** x        x > 0\n",
    "# (-x) ** (-x)  x < 0\n",
    "def f(x):\n",
    "    y = np.ones_like(x)\n",
    "    i = x > 0\n",
    "    y[i] = np.power(x[i], x[i])\n",
    "    i = x < 0\n",
    "    y[i] = np.power(-x[i], -x[i])\n",
    "    return y"
   ]
  },
  {
   "cell_type": "markdown",
   "metadata": {},
   "source": [
    "## 1. Numpy array"
   ]
  },
  {
   "cell_type": "code",
   "execution_count": 7,
   "metadata": {},
   "outputs": [
    {
     "data": {
      "text/plain": [
       "array([[ 0,  1,  2,  3,  4,  5],\n",
       "       [10, 11, 12, 13, 14, 15],\n",
       "       [20, 21, 22, 23, 24, 25],\n",
       "       [30, 31, 32, 33, 34, 35],\n",
       "       [40, 41, 42, 43, 44, 45],\n",
       "       [50, 51, 52, 53, 54, 55]])"
      ]
     },
     "execution_count": 7,
     "metadata": {},
     "output_type": "execute_result"
    }
   ],
   "source": [
    "a = np.arange(0, 60, 10).reshape((-1, 1)) + np.arange(6)\n",
    "a"
   ]
  },
  {
   "cell_type": "code",
   "execution_count": 36,
   "metadata": {},
   "outputs": [
    {
     "name": "stdout",
     "output_type": "stream",
     "text": [
      "[1, 2, 3, 4, 5, 6]\n",
      "[1 2 3 4 5 6]\n",
      "(6,)\n",
      "[[  1.   2.   3.   4.]\n",
      " [  5.   6.   7.   8.]\n",
      " [  9.  10.  11.  12.]]\n",
      "(3, 4)\n",
      "[[  1.+0.j   2.+0.j   3.+0.j   4.+0.j]\n",
      " [  5.+0.j   6.+0.j   7.+0.j   8.+0.j]\n",
      " [  9.+0.j  10.+0.j  11.+0.j  12.+0.j]]\n",
      "[[ 1  2  3  4]\n",
      " [ 5  6  7  8]\n",
      " [ 9 10 11 12]]\n"
     ]
    }
   ],
   "source": [
    "L = [1,2,3,4,5,6]\n",
    "print(L)\n",
    "a = np.array(L)\n",
    "print(a)\n",
    "print(a.shape)\n",
    "\n",
    "\n",
    "b = np.array([[1,2,3,4,], [5,6,7,8],[9,10,11,12]], dtype= np.float)\n",
    "print(b)\n",
    "print(b.shape)\n",
    "\n",
    "f = np.array([[1, 2, 3, 4], [5, 6, 7, 8], [9, 10, 11, 12]], dtype=np.complex)\n",
    "print(f)    \n",
    "\n",
    "# change data type\n",
    "d = b.astype(np.int)\n",
    "print(d)"
   ]
  },
  {
   "cell_type": "code",
   "execution_count": 33,
   "metadata": {},
   "outputs": [
    {
     "name": "stdout",
     "output_type": "stream",
     "text": [
      "[[  1.   2.   3.]\n",
      " [  4.   5.   6.]\n",
      " [  7.   8.   9.]\n",
      " [ 10.  11.  12.]]\n",
      "[[  1.   2.   3.   4.   5.   6.]\n",
      " [  7.   8.   9.  10.  11.  12.]]\n",
      "[[  1.   2.   3.]\n",
      " [  4.   5.   6.]\n",
      " [  7.   8.   9.]\n",
      " [ 10.  11.  12.]]\n",
      "[[  1.  20.   3.]\n",
      " [  4.   5.   6.]\n",
      " [  7.   8.   9.]\n",
      " [ 10.  11.  12.]]\n"
     ]
    }
   ],
   "source": [
    "\n",
    "# change shape: \n",
    "b.shape= [4,3]\n",
    "print(b)\n",
    "\n",
    "# if shape have a dim =-1, will calcualte base on other dim\n",
    "b.shape =[2,-1]\n",
    "print(b)\n",
    "\n",
    "# reshape: create a new array linked to the original array\n",
    "c= b.reshape((4,-1))\n",
    "print(c)\n",
    "\n",
    "# if we change numbers in b, c will also be changed\n",
    "b[0][1] = 20\n",
    "print(c)\n"
   ]
  },
  {
   "cell_type": "markdown",
   "metadata": {},
   "source": [
    "## 2. Functions"
   ]
  },
  {
   "cell_type": "code",
   "execution_count": 43,
   "metadata": {},
   "outputs": [
    {
     "data": {
      "text/plain": [
       "array([ 1. ,  1.5,  2. ,  2.5,  3. ,  3.5,  4. ,  4.5,  5. ,  5.5,  6. ,\n",
       "        6.5,  7. ,  7.5,  8. ,  8.5,  9. ,  9.5])"
      ]
     },
     "execution_count": 43,
     "metadata": {},
     "output_type": "execute_result"
    }
   ],
   "source": [
    "a = np.arange(start= 1, stop= 10, step= 0.5, dtype= float)\n",
    "a"
   ]
  },
  {
   "cell_type": "code",
   "execution_count": 48,
   "metadata": {
    "collapsed": true
   },
   "outputs": [],
   "source": [
    "? np.logspace"
   ]
  },
  {
   "cell_type": "code",
   "execution_count": 47,
   "metadata": {},
   "outputs": [
    {
     "name": "stdout",
     "output_type": "stream",
     "text": [
      "[  1.   2.   3.   4.   5.   6.   7.   8.   9.  10.]\n",
      "[ 1.   1.9  2.8  3.7  4.6  5.5  6.4  7.3  8.2  9.1]\n"
     ]
    }
   ],
   "source": [
    "b = np.linspace(start =1 , stop=10 , num= 10)\n",
    "print(b)\n",
    "c = np.linspace(start =1 , stop=10 , num= 10, endpoint= False)\n",
    "print(c)"
   ]
  },
  {
   "cell_type": "code",
   "execution_count": 55,
   "metadata": {},
   "outputs": [
    {
     "name": "stdout",
     "output_type": "stream",
     "text": [
      "[  10.           13.33521432   17.7827941    23.71373706   31.6227766\n",
      "   42.16965034   56.23413252   74.98942093  100.        ]\n",
      "[   1    2    4    8   16   32   64  128  256  512 1024]\n"
     ]
    }
   ],
   "source": [
    "# np.logspace(start, stop, num=50, endpoint=True, base=10.0, dtype=None)\n",
    "# Return numbers spaced evenly on a log scale.\n",
    "\n",
    "d = np.logspace(start = 1, stop= 2, num= 9, endpoint= True)\n",
    "print(d)\n",
    "\n",
    "d = np.logspace(start = 0, stop= 10, num= 11, base=2 , endpoint= True, dtype= int)\n",
    "print(d)"
   ]
  },
  {
   "cell_type": "code",
   "execution_count": 57,
   "metadata": {},
   "outputs": [
    {
     "name": "stdout",
     "output_type": "stream",
     "text": [
      "[100 115 102  97  98 114 100]\n"
     ]
    }
   ],
   "source": [
    "# frombuffer, fromstring, fromfile\n",
    "\n",
    "s = 'dsfabrd'\n",
    "g = np.fromstring(s, dtype= np.int8)\n",
    "print(g)"
   ]
  },
  {
   "cell_type": "markdown",
   "metadata": {},
   "source": [
    "## 3. Read from array "
   ]
  },
  {
   "cell_type": "code",
   "execution_count": 64,
   "metadata": {},
   "outputs": [
    {
     "name": "stdout",
     "output_type": "stream",
     "text": [
      "[0 1 2 3 4 5 6 7 8 9]\n",
      "3\n",
      "[0 1 2 3 4]\n",
      "[3 4 5]\n",
      "[1 3 5 7]\n",
      "[9 8 7 6 5 4 3 2 1 0]\n",
      "[ 0 10 20 30  4  5  6  7  8  9]\n",
      "[  0  10 200  30   4   5   6   7   8   9]\n"
     ]
    }
   ],
   "source": [
    "a = np.arange(10)\n",
    "print(a)\n",
    "print(a[3])\n",
    "print(a[:5])\n",
    "print(a[3:6])    # slicing\n",
    "print(a[1:9:2])  # include start, exclude end\n",
    "print(a[::-1])   # reverse\n",
    "# change value of slicing\n",
    "a[1:4] = 10, 20,30\n",
    "print(a)\n",
    "\n",
    "# change value of a slice, the original values will also be changed\n",
    "b = a[2:5]\n",
    "b[0] = 200\n",
    "print(a)"
   ]
  },
  {
   "cell_type": "code",
   "execution_count": 68,
   "metadata": {},
   "outputs": [
    {
     "name": "stdout",
     "output_type": "stream",
     "text": [
      "[   1.    2.    4.    8.   16.   32.   64.  128.  256.  512.]\n",
      "[0 2 4 6 8]\n",
      "[   1.    4.   16.   64.  256.]\n"
     ]
    }
   ],
   "source": [
    "# slice an array with another slice\n",
    "a = np.logspace(start= 0, stop= 9, num= 10, base= 2)\n",
    "print(a)\n",
    "i = np.arange(start= 0, stop= 10, step= 2)\n",
    "print(i)\n",
    "print(a[i])"
   ]
  },
  {
   "cell_type": "code",
   "execution_count": 79,
   "metadata": {},
   "outputs": [
    {
     "name": "stdout",
     "output_type": "stream",
     "text": [
      "[ 0.93531936  0.73115264  0.02466121  0.08472319  0.7255384   0.40345048\n",
      "  0.90327348  0.69152195  0.53360324  0.66308601]\n",
      "[ 0.93531936  0.73115264  0.7255384   0.90327348  0.69152195  0.53360324\n",
      "  0.66308601]\n",
      "[ 0.93531936  0.73115264  0.7255384   0.90327348  0.69152195  0.53360324\n",
      "  0.66308601]\n"
     ]
    }
   ],
   "source": [
    "# 10 U(0,1) random variables\n",
    "a = np.random.rand(10)\n",
    "print(a)\n",
    "\n",
    "b= a[a>0.5]\n",
    "print(b)\n",
    "\n",
    "a[a>0.5] = 0.5\n",
    "print(b)          # b remains unchanged"
   ]
  },
  {
   "cell_type": "markdown",
   "metadata": {},
   "source": [
    "### Slicing 2D arrays"
   ]
  },
  {
   "cell_type": "code",
   "execution_count": 97,
   "metadata": {},
   "outputs": [
    {
     "name": "stdout",
     "output_type": "stream",
     "text": [
      "[[ 0  1  2  3  4  5]\n",
      " [10 11 12 13 14 15]\n",
      " [20 21 22 23 24 25]\n",
      " [30 31 32 33 34 35]\n",
      " [40 41 42 43 44 45]\n",
      " [50 51 52 53 54 55]]\n",
      "[12 23 34]\n",
      "[42 43 44]\n",
      "[[42 43 44]\n",
      " [52 53 54]]\n",
      "[[ 0  1  2  3  4  5]\n",
      " [20 21 22 23 24 25]\n",
      " [50 51 52 53 54 55]]\n",
      "[ 3 23 53]\n"
     ]
    }
   ],
   "source": [
    "a = np.arange(start=0, stop= 60, step=10).reshape((-1,1))+ np.arange(0,6)\n",
    "print(a)\n",
    "\n",
    "print(a[[1,2,3],[2,3,4]])\n",
    "print(a[4, [2,3,4]])\n",
    "print(a[4:, [2,3,4]])\n",
    "\n",
    "i = np.array([True, False, True, False, False, True])\n",
    "print(a[i]) # select rows\n",
    "print(a[i,3])"
   ]
  },
  {
   "cell_type": "markdown",
   "metadata": {},
   "source": [
    "## 4. More topics\n",
    "### 4.1 Compare speed of numpy and math functions\n"
   ]
  },
  {
   "cell_type": "code",
   "execution_count": 4,
   "metadata": {},
   "outputs": [
    {
     "name": "stdout",
     "output_type": "stream",
     "text": [
      "1 : 1.0000000000065512e-05 5.999999999950489e-06 0.5999999999911182\n",
      "5 : 6.999999999646178e-06 7.000000000090267e-06 1.0000000000634413\n",
      "35 : 1.100000000020529e-05 2.3999999999801958e-05 2.1818181817594593\n",
      "215 : 1.6000000000016e-05 5.3999999999998494e-05 3.3749999999965308\n",
      "1291 : 0.00013299999999993872 0.00034599999999995745 2.601503759399375\n",
      "7742 : 0.00024500000000005073 0.0019460000000002253 7.942857142856417\n",
      "46415 : 0.0013689999999999536 0.012253999999999987 8.951059167275677\n",
      "278255 : 0.0037090000000001844 0.053545000000000176 14.436505796710033\n",
      "1668100 : 0.02392700000000003 0.30783099999999974 12.86542399799387\n",
      "10000000 : 0.14603299999999964 1.8422270000000003 12.615141783021679\n"
     ]
    }
   ],
   "source": [
    "for j in np.logspace(0,7,10):\n",
    "    j = int(j)\n",
    "    x = np.linspace(start= 0, stop= 10, num= j)\n",
    "    start= time.clock()     #  start timing\n",
    "    y = np.sin(x)\n",
    "    t1 = time.clock() - start # compute time elapsed\n",
    "    \n",
    "    x = x.tolist()\n",
    "    start = time.clock()\n",
    "    for i, t in enumerate(x): # for loop is slow\n",
    "        x[i] = math.sin(t)\n",
    "    t2 = time.clock() - start\n",
    "    \n",
    "    print(j, ':', t1,t2, t2/t1)"
   ]
  },
  {
   "cell_type": "code",
   "execution_count": null,
   "metadata": {},
   "outputs": [],
   "source": [
    "for j in np.logspace(0,7,10):\n",
    "    j = int(j)\n",
    "    x = np.linspace(start= 0, stop= 10, num= j)\n",
    "    start= time.clock()     #  start timing\n",
    "    y = np.sin(x)\n",
    "    t1 = time.clock() - start # compute time elapsed\n",
    "    \n",
    "    x = x.tolist()\n",
    "    start = time.clock()\n",
    "    y2= map(math.sin, x )\n",
    "    t2 = time.clock() - start\n",
    "    \n",
    "    print(j, ':', t1,t2, t2/t1)"
   ]
  },
  {
   "cell_type": "markdown",
   "metadata": {},
   "source": [
    "### 4.2 Remove duplication"
   ]
  },
  {
   "cell_type": "code",
   "execution_count": 8,
   "metadata": {},
   "outputs": [
    {
     "name": "stdout",
     "output_type": "stream",
     "text": [
      "Original array: [1 2 3 4 5 5 7 3 2 2 8 8]\n",
      "Remove duplication: [1 2 3 4 5 7 8]\n"
     ]
    }
   ],
   "source": [
    "a= np.array([1,2,3,4,5,5,7,3,2,2,8,8])\n",
    "print('Original array:', a)\n",
    "\n",
    "# unique function\n",
    "b = np.unique(a)\n",
    "print(\"Remove duplication:\", b)"
   ]
  },
  {
   "cell_type": "code",
   "execution_count": 22,
   "metadata": {},
   "outputs": [
    {
     "name": "stdout",
     "output_type": "stream",
     "text": [
      "[[1 2]\n",
      " [3 4]\n",
      " [5 6]\n",
      " [1 3]\n",
      " [3 4]\n",
      " [7 6]]\n",
      "[ 1.+2.j  1.+3.j  3.+4.j  5.+6.j  7.+6.j]\n",
      "[[1 2]\n",
      " [1 3]\n",
      " [3 4]\n",
      " [5 6]\n",
      " [7 6]]\n",
      "[[1 2]\n",
      " [1 3]\n",
      " [5 6]\n",
      " [7 6]\n",
      " [3 4]]\n"
     ]
    }
   ],
   "source": [
    "# Remove duplication for 2D array:\n",
    "c = np.array(((1, 2), (3, 4), (5, 6), (1, 3), (3, 4), (7, 6)))\n",
    "print(c)\n",
    "\n",
    "# Method 1: convert to complex number\n",
    "#r, i = np.split(ary= c, indices_or_sections= (1,) , axis= 1)\n",
    "#x= r+ i*1j\n",
    "x = c[:, 0] + c[:, 1] * 1j\n",
    "print(np.unique(x))\n",
    "dx = np.unique(x, return_index=True)[1]\n",
    "print(c[dx,])\n",
    "\n",
    "# Method2: use set\n",
    "print(np.array(list(set([tuple(t) for t in c]))))"
   ]
  },
  {
   "cell_type": "code",
   "execution_count": 24,
   "metadata": {
    "collapsed": true
   },
   "outputs": [],
   "source": [
    "?np.stack"
   ]
  },
  {
   "cell_type": "markdown",
   "metadata": {},
   "source": [
    "### Stack and axis"
   ]
  },
  {
   "cell_type": "code",
   "execution_count": 29,
   "metadata": {},
   "outputs": [
    {
     "name": "stdout",
     "output_type": "stream",
     "text": [
      "a=  [[1 2 3]\n",
      " [4 5 6]\n",
      " [7 8 9]]\n",
      "b=  [[11 12 13]\n",
      " [14 15 16]\n",
      " [17 18 19]]\n",
      "c=  [[101 102 103]\n",
      " [104 105 106]\n",
      " [107 108 109]]\n",
      "axis=0 \n",
      " [[[  1   2   3]\n",
      "  [  4   5   6]\n",
      "  [  7   8   9]]\n",
      "\n",
      " [[ 11  12  13]\n",
      "  [ 14  15  16]\n",
      "  [ 17  18  19]]\n",
      "\n",
      " [[101 102 103]\n",
      "  [104 105 106]\n",
      "  [107 108 109]]]\n"
     ]
    }
   ],
   "source": [
    "a = np.arange(1,10).reshape((3,3))\n",
    "b = np.arange(11,20).reshape((3,3))\n",
    "c = np.arange(101, 110).reshape((3,3))\n",
    "print('a= ', a)\n",
    "print('b= ', b)\n",
    "print('c= ', c)"
   ]
  },
  {
   "cell_type": "markdown",
   "metadata": {},
   "source": [
    "#### 3 ways to stack:"
   ]
  },
  {
   "cell_type": "code",
   "execution_count": 32,
   "metadata": {},
   "outputs": [
    {
     "name": "stdout",
     "output_type": "stream",
     "text": [
      "axis=0 \n",
      " [[[  1   2   3]\n",
      "  [  4   5   6]\n",
      "  [  7   8   9]]\n",
      "\n",
      " [[ 11  12  13]\n",
      "  [ 14  15  16]\n",
      "  [ 17  18  19]]\n",
      "\n",
      " [[101 102 103]\n",
      "  [104 105 106]\n",
      "  [107 108 109]]]\n"
     ]
    }
   ],
   "source": [
    "print( 'axis=0 \\n', np.stack(arrays=(a,b,c), axis= 0) ) "
   ]
  },
  {
   "cell_type": "code",
   "execution_count": 30,
   "metadata": {},
   "outputs": [
    {
     "name": "stdout",
     "output_type": "stream",
     "text": [
      "axis=1 \n",
      " [[[  1   2   3]\n",
      "  [ 11  12  13]\n",
      "  [101 102 103]]\n",
      "\n",
      " [[  4   5   6]\n",
      "  [ 14  15  16]\n",
      "  [104 105 106]]\n",
      "\n",
      " [[  7   8   9]\n",
      "  [ 17  18  19]\n",
      "  [107 108 109]]]\n"
     ]
    }
   ],
   "source": [
    "print( 'axis=1 \\n', np.stack(arrays=(a,b,c), axis= 1) )"
   ]
  },
  {
   "cell_type": "code",
   "execution_count": 31,
   "metadata": {},
   "outputs": [
    {
     "name": "stdout",
     "output_type": "stream",
     "text": [
      "axis=2 \n",
      " [[[  1  11 101]\n",
      "  [  2  12 102]\n",
      "  [  3  13 103]]\n",
      "\n",
      " [[  4  14 104]\n",
      "  [  5  15 105]\n",
      "  [  6  16 106]]\n",
      "\n",
      " [[  7  17 107]\n",
      "  [  8  18 108]\n",
      "  [  9  19 109]]]\n"
     ]
    }
   ],
   "source": [
    "print( 'axis=2 \\n', np.stack(arrays=(a,b,c), axis= 2) )"
   ]
  },
  {
   "cell_type": "code",
   "execution_count": 35,
   "metadata": {},
   "outputs": [
    {
     "name": "stdout",
     "output_type": "stream",
     "text": [
      "[[1 2 3]\n",
      " [4 5 6]\n",
      " [7 8 9]]\n",
      "[[11 12 13]\n",
      " [14 15 16]\n",
      " [17 18 19]]\n",
      "matrix product:\n",
      " [[ 90  96 102]\n",
      " [216 231 246]\n",
      " [342 366 390]]\n",
      "element-wise product:\n",
      " [[ 11  24  39]\n",
      " [ 56  75  96]\n",
      " [119 144 171]]\n"
     ]
    }
   ],
   "source": [
    "# Broadcast \n",
    "a = np.arange(1,10).reshape(3,3)\n",
    "print(a)\n",
    "b = a + 10\n",
    "print(b)\n",
    "\n",
    "# matrix product\n",
    "print('matrix product:\\n',np.dot(a,b))\n",
    "# element-wise product\n",
    "print('element-wise product:\\n',a *b )"
   ]
  },
  {
   "cell_type": "code",
   "execution_count": null,
   "metadata": {
    "collapsed": true
   },
   "outputs": [],
   "source": []
  },
  {
   "cell_type": "code",
   "execution_count": null,
   "metadata": {
    "collapsed": true
   },
   "outputs": [],
   "source": []
  },
  {
   "cell_type": "code",
   "execution_count": null,
   "metadata": {
    "collapsed": true
   },
   "outputs": [],
   "source": []
  },
  {
   "cell_type": "code",
   "execution_count": null,
   "metadata": {
    "collapsed": true
   },
   "outputs": [],
   "source": []
  },
  {
   "cell_type": "code",
   "execution_count": null,
   "metadata": {
    "collapsed": true
   },
   "outputs": [],
   "source": []
  },
  {
   "cell_type": "code",
   "execution_count": null,
   "metadata": {
    "collapsed": true
   },
   "outputs": [],
   "source": []
  },
  {
   "cell_type": "code",
   "execution_count": null,
   "metadata": {
    "collapsed": true
   },
   "outputs": [],
   "source": [
    " "
   ]
  },
  {
   "cell_type": "code",
   "execution_count": null,
   "metadata": {
    "collapsed": true
   },
   "outputs": [],
   "source": []
  },
  {
   "cell_type": "code",
   "execution_count": null,
   "metadata": {
    "collapsed": true
   },
   "outputs": [],
   "source": []
  },
  {
   "cell_type": "code",
   "execution_count": null,
   "metadata": {
    "collapsed": true
   },
   "outputs": [],
   "source": [
    "   # 8.1 scipy\n",
    "    # 线性回归例1\n",
    "    # x = np.linspace(-2, 2, 50)\n",
    "    # A, B, C = 2, 3, -1\n",
    "    # y = (A * x ** 2 + B * x + C) + np.random.rand(len(x))*0.75\n",
    "    #\n",
    "    # t = leastsq(residual, [0, 0, 0], args=(x, y))\n",
    "    # theta = t[0]\n",
    "    # print '真实值：', A, B, C\n",
    "    # print '预测值：', theta\n",
    "    # y_hat = theta[0] * x ** 2 + theta[1] * x + theta[2]\n",
    "    # plt.plot(x, y, 'r-', linewidth=2, label=u'Actual')\n",
    "    # plt.plot(x, y_hat, 'g-', linewidth=2, label=u'Predict')\n",
    "    # plt.legend(loc='upper left')\n",
    "    # plt.grid()\n",
    "    # plt.show()\n",
    "\n",
    "    # # 线性回归例2\n",
    "    # x = np.linspace(0, 5, 100)\n",
    "    # a = 5\n",
    "    # w = 1.5\n",
    "    # phi = -2\n",
    "    # y = a * np.sin(w*x) + phi + np.random.rand(len(x))*0.5\n",
    "    #\n",
    "    # t = leastsq(residual2, [3, 5, 1], args=(x, y))\n",
    "    # theta = t[0]\n",
    "    # print '真实值：', a, w, phi\n",
    "    # print '预测值：', theta\n",
    "    # y_hat = theta[0] * np.sin(theta[1] * x) + theta[2]\n",
    "    # plt.plot(x, y, 'r-', linewidth=2, label='Actual')\n",
    "    # plt.plot(x, y_hat, 'g-', linewidth=2, label='Predict')\n",
    "    # plt.legend(loc='lower left')\n",
    "    # plt.grid()\n",
    "    # plt.show()\n",
    "\n",
    "    # # 8.2 使用scipy计算函数极值\n",
    "    # a = opt.fmin(f, 1)\n",
    "    # b = opt.fmin_cg(f, 1)\n",
    "    # c = opt.fmin_bfgs(f, 1)\n",
    "    # print a, 1/a, math.e\n",
    "    # print b\n",
    "    # print c\n",
    "\n",
    "    # marker\tdescription\n",
    "    # ”.”\tpoint\n",
    "    # ”,”\tpixel\n",
    "    # “o”\tcircle\n",
    "    # “v”\ttriangle_down\n",
    "    # “^”\ttriangle_up\n",
    "    # “<”\ttriangle_left\n",
    "    # “>”\ttriangle_right\n",
    "    # “1”\ttri_down\n",
    "    # “2”\ttri_up\n",
    "    # “3”\ttri_left\n",
    "    # “4”\ttri_right\n",
    "    # “8”\toctagon\n",
    "    # “s”\tsquare\n",
    "    # “p”\tpentagon\n",
    "    # “*”\tstar\n",
    "    # “h”\thexagon1\n",
    "    # “H”\thexagon2\n",
    "    # “+”\tplus\n",
    "    # “x”\tx\n",
    "    # “D”\tdiamond\n",
    "    # “d”\tthin_diamond\n",
    "    # “|”\tvline\n",
    "    # “_”\thline\n",
    "    # TICKLEFT\ttickleft\n",
    "    # TICKRIGHT\ttickright\n",
    "    # TICKUP\ttickup\n",
    "    # TICKDOWN\ttickdown\n",
    "    # CARETLEFT\tcaretleft\n",
    "    # CARETRIGHT\tcaretright\n",
    "    # CARETUP\tcaretup\n",
    "    # CARETDOWN\tcaretdown"
   ]
  }
 ],
 "metadata": {
  "kernelspec": {
   "display_name": "Python 3",
   "language": "python",
   "name": "python3"
  },
  "language_info": {
   "codemirror_mode": {
    "name": "ipython",
    "version": 3
   },
   "file_extension": ".py",
   "mimetype": "text/x-python",
   "name": "python",
   "nbconvert_exporter": "python",
   "pygments_lexer": "ipython3",
   "version": "3.6.2"
  },
  "widgets": {
   "application/vnd.jupyter.widget-state+json": {
    "state": {},
    "version_major": 2,
    "version_minor": 0
   }
  }
 },
 "nbformat": 4,
 "nbformat_minor": 2
}
