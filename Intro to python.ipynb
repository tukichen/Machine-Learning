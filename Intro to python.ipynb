{
 "cells": [
  {
   "cell_type": "code",
   "execution_count": null,
   "metadata": {
    "collapsed": true
   },
   "outputs": [],
   "source": []
  },
  {
   "cell_type": "code",
   "execution_count": 4,
   "metadata": {},
   "outputs": [],
   "source": [
    "import numpy as np\n",
    "import matplotlib as mpl\n",
    "import matplotlib.pyplot as plt\n",
    "from matplotlib import cm\n",
    "from mpl_toolkits.mplot3d import Axes3D\n",
    "%matplotlib inline\n",
    "\n",
    "import time\n",
    "from scipy import stats\n",
    "from scipy.optimize import leastsq\n",
    "import scipy.optimize as opt\n",
    "from scipy.stats import norm, poisson\n",
    "# from scipy.interpolate import BarycentricInterpolator, CubicSpline\n",
    "\n",
    "import math\n",
    "#import seaborn"
   ]
  },
  {
   "cell_type": "code",
   "execution_count": 5,
   "metadata": {
    "collapsed": true
   },
   "outputs": [],
   "source": [
    "def residual(t, X, y):\n",
    "    ''' Quadratic function: f(x) = t[0]* x**2 + t[1]* x + t[2] '''\n",
    "    return y-(t[0]* x**2 + t[1]*x + t[2])\n",
    "\n",
    "def residual2(t, X, y):\n",
    "    ''' function: f(x) = t0*sin(t1* x) + t2  '''\n",
    "    print( t[0], t[1])\n",
    "    return y-(t[0]* np.sin(t[1]* x) + t[2])"
   ]
  },
  {
   "cell_type": "code",
   "execution_count": null,
   "metadata": {
    "collapsed": true
   },
   "outputs": [],
   "source": [
    "# x ** x        x > 0\n",
    "# (-x) ** (-x)  x < 0\n",
    "def f(x):\n",
    "    y = np.ones_like(x)\n",
    "    i = x > 0\n",
    "    y[i] = np.power(x[i], x[i])\n",
    "    i = x < 0\n",
    "    y[i] = np.power(-x[i], -x[i])\n",
    "    return y"
   ]
  },
  {
   "cell_type": "markdown",
   "metadata": {},
   "source": [
    "## 1. Numpy array"
   ]
  },
  {
   "cell_type": "code",
   "execution_count": 7,
   "metadata": {},
   "outputs": [
    {
     "data": {
      "text/plain": [
       "array([[ 0,  1,  2,  3,  4,  5],\n",
       "       [10, 11, 12, 13, 14, 15],\n",
       "       [20, 21, 22, 23, 24, 25],\n",
       "       [30, 31, 32, 33, 34, 35],\n",
       "       [40, 41, 42, 43, 44, 45],\n",
       "       [50, 51, 52, 53, 54, 55]])"
      ]
     },
     "execution_count": 7,
     "metadata": {},
     "output_type": "execute_result"
    }
   ],
   "source": [
    "a = np.arange(0, 60, 10).reshape((-1, 1)) + np.arange(6)\n",
    "a"
   ]
  },
  {
   "cell_type": "code",
   "execution_count": 36,
   "metadata": {},
   "outputs": [
    {
     "name": "stdout",
     "output_type": "stream",
     "text": [
      "[1, 2, 3, 4, 5, 6]\n",
      "[1 2 3 4 5 6]\n",
      "(6,)\n",
      "[[  1.   2.   3.   4.]\n",
      " [  5.   6.   7.   8.]\n",
      " [  9.  10.  11.  12.]]\n",
      "(3, 4)\n",
      "[[  1.+0.j   2.+0.j   3.+0.j   4.+0.j]\n",
      " [  5.+0.j   6.+0.j   7.+0.j   8.+0.j]\n",
      " [  9.+0.j  10.+0.j  11.+0.j  12.+0.j]]\n",
      "[[ 1  2  3  4]\n",
      " [ 5  6  7  8]\n",
      " [ 9 10 11 12]]\n"
     ]
    }
   ],
   "source": [
    "L = [1,2,3,4,5,6]\n",
    "print(L)\n",
    "a = np.array(L)\n",
    "print(a)\n",
    "print(a.shape)\n",
    "\n",
    "\n",
    "b = np.array([[1,2,3,4,], [5,6,7,8],[9,10,11,12]], dtype= np.float)\n",
    "print(b)\n",
    "print(b.shape)\n",
    "\n",
    "f = np.array([[1, 2, 3, 4], [5, 6, 7, 8], [9, 10, 11, 12]], dtype=np.complex)\n",
    "print(f)    \n",
    "\n",
    "# change data type\n",
    "d = b.astype(np.int)\n",
    "print(d)"
   ]
  },
  {
   "cell_type": "code",
   "execution_count": 33,
   "metadata": {},
   "outputs": [
    {
     "name": "stdout",
     "output_type": "stream",
     "text": [
      "[[  1.   2.   3.]\n",
      " [  4.   5.   6.]\n",
      " [  7.   8.   9.]\n",
      " [ 10.  11.  12.]]\n",
      "[[  1.   2.   3.   4.   5.   6.]\n",
      " [  7.   8.   9.  10.  11.  12.]]\n",
      "[[  1.   2.   3.]\n",
      " [  4.   5.   6.]\n",
      " [  7.   8.   9.]\n",
      " [ 10.  11.  12.]]\n",
      "[[  1.  20.   3.]\n",
      " [  4.   5.   6.]\n",
      " [  7.   8.   9.]\n",
      " [ 10.  11.  12.]]\n"
     ]
    }
   ],
   "source": [
    "\n",
    "# change shape: \n",
    "b.shape= [4,3]\n",
    "print(b)\n",
    "\n",
    "# if shape have a dim =-1, will calcualte base on other dim\n",
    "b.shape =[2,-1]\n",
    "print(b)\n",
    "\n",
    "# reshape: create a new array linked to the original array\n",
    "c= b.reshape((4,-1))\n",
    "print(c)\n",
    "\n",
    "# if we change numbers in b, c will also be changed\n",
    "b[0][1] = 20\n",
    "print(c)\n"
   ]
  },
  {
   "cell_type": "markdown",
   "metadata": {},
   "source": [
    "## 2. Functions"
   ]
  },
  {
   "cell_type": "code",
   "execution_count": 43,
   "metadata": {},
   "outputs": [
    {
     "data": {
      "text/plain": [
       "array([ 1. ,  1.5,  2. ,  2.5,  3. ,  3.5,  4. ,  4.5,  5. ,  5.5,  6. ,\n",
       "        6.5,  7. ,  7.5,  8. ,  8.5,  9. ,  9.5])"
      ]
     },
     "execution_count": 43,
     "metadata": {},
     "output_type": "execute_result"
    }
   ],
   "source": [
    "a = np.arange(start= 1, stop= 10, step= 0.5, dtype= float)\n",
    "a"
   ]
  },
  {
   "cell_type": "code",
   "execution_count": 48,
   "metadata": {
    "collapsed": true
   },
   "outputs": [],
   "source": [
    "? np.logspace"
   ]
  },
  {
   "cell_type": "code",
   "execution_count": 47,
   "metadata": {},
   "outputs": [
    {
     "name": "stdout",
     "output_type": "stream",
     "text": [
      "[  1.   2.   3.   4.   5.   6.   7.   8.   9.  10.]\n",
      "[ 1.   1.9  2.8  3.7  4.6  5.5  6.4  7.3  8.2  9.1]\n"
     ]
    }
   ],
   "source": [
    "b = np.linspace(start =1 , stop=10 , num= 10)\n",
    "print(b)\n",
    "c = np.linspace(start =1 , stop=10 , num= 10, endpoint= False)\n",
    "print(c)"
   ]
  },
  {
   "cell_type": "code",
   "execution_count": 55,
   "metadata": {},
   "outputs": [
    {
     "name": "stdout",
     "output_type": "stream",
     "text": [
      "[  10.           13.33521432   17.7827941    23.71373706   31.6227766\n",
      "   42.16965034   56.23413252   74.98942093  100.        ]\n",
      "[   1    2    4    8   16   32   64  128  256  512 1024]\n"
     ]
    }
   ],
   "source": [
    "# np.logspace(start, stop, num=50, endpoint=True, base=10.0, dtype=None)\n",
    "# Return numbers spaced evenly on a log scale.\n",
    "\n",
    "d = np.logspace(start = 1, stop= 2, num= 9, endpoint= True)\n",
    "print(d)\n",
    "\n",
    "d = np.logspace(start = 0, stop= 10, num= 11, base=2 , endpoint= True, dtype= int)\n",
    "print(d)"
   ]
  },
  {
   "cell_type": "code",
   "execution_count": 57,
   "metadata": {},
   "outputs": [
    {
     "name": "stdout",
     "output_type": "stream",
     "text": [
      "[100 115 102  97  98 114 100]\n"
     ]
    }
   ],
   "source": [
    "# frombuffer, fromstring, fromfile\n",
    "\n",
    "s = 'dsfabrd'\n",
    "g = np.fromstring(s, dtype= np.int8)\n",
    "print(g)"
   ]
  },
  {
   "cell_type": "markdown",
   "metadata": {},
   "source": [
    "## 3. Read from array "
   ]
  },
  {
   "cell_type": "code",
   "execution_count": 64,
   "metadata": {},
   "outputs": [
    {
     "name": "stdout",
     "output_type": "stream",
     "text": [
      "[0 1 2 3 4 5 6 7 8 9]\n",
      "3\n",
      "[0 1 2 3 4]\n",
      "[3 4 5]\n",
      "[1 3 5 7]\n",
      "[9 8 7 6 5 4 3 2 1 0]\n",
      "[ 0 10 20 30  4  5  6  7  8  9]\n",
      "[  0  10 200  30   4   5   6   7   8   9]\n"
     ]
    }
   ],
   "source": [
    "a = np.arange(10)\n",
    "print(a)\n",
    "print(a[3])\n",
    "print(a[:5])\n",
    "print(a[3:6])    # slicing\n",
    "print(a[1:9:2])  # include start, exclude end\n",
    "print(a[::-1])   # reverse\n",
    "# change value of slicing\n",
    "a[1:4] = 10, 20,30\n",
    "print(a)\n",
    "\n",
    "# change value of a slice, the original values will also be changed\n",
    "b = a[2:5]\n",
    "b[0] = 200\n",
    "print(a)"
   ]
  },
  {
   "cell_type": "code",
   "execution_count": 68,
   "metadata": {},
   "outputs": [
    {
     "name": "stdout",
     "output_type": "stream",
     "text": [
      "[   1.    2.    4.    8.   16.   32.   64.  128.  256.  512.]\n",
      "[0 2 4 6 8]\n",
      "[   1.    4.   16.   64.  256.]\n"
     ]
    }
   ],
   "source": [
    "# slice an array with another slice\n",
    "a = np.logspace(start= 0, stop= 9, num= 10, base= 2)\n",
    "print(a)\n",
    "i = np.arange(start= 0, stop= 10, step= 2)\n",
    "print(i)\n",
    "print(a[i])"
   ]
  },
  {
   "cell_type": "code",
   "execution_count": 79,
   "metadata": {},
   "outputs": [
    {
     "name": "stdout",
     "output_type": "stream",
     "text": [
      "[ 0.93531936  0.73115264  0.02466121  0.08472319  0.7255384   0.40345048\n",
      "  0.90327348  0.69152195  0.53360324  0.66308601]\n",
      "[ 0.93531936  0.73115264  0.7255384   0.90327348  0.69152195  0.53360324\n",
      "  0.66308601]\n",
      "[ 0.93531936  0.73115264  0.7255384   0.90327348  0.69152195  0.53360324\n",
      "  0.66308601]\n"
     ]
    }
   ],
   "source": [
    "# 10 U(0,1) random variables\n",
    "a = np.random.rand(10)\n",
    "print(a)\n",
    "\n",
    "b= a[a>0.5]\n",
    "print(b)\n",
    "\n",
    "a[a>0.5] = 0.5\n",
    "print(b)          # b remains unchanged"
   ]
  },
  {
   "cell_type": "markdown",
   "metadata": {},
   "source": [
    "### Slicing 2D arrays"
   ]
  },
  {
   "cell_type": "code",
   "execution_count": 97,
   "metadata": {},
   "outputs": [
    {
     "name": "stdout",
     "output_type": "stream",
     "text": [
      "[[ 0  1  2  3  4  5]\n",
      " [10 11 12 13 14 15]\n",
      " [20 21 22 23 24 25]\n",
      " [30 31 32 33 34 35]\n",
      " [40 41 42 43 44 45]\n",
      " [50 51 52 53 54 55]]\n",
      "[12 23 34]\n",
      "[42 43 44]\n",
      "[[42 43 44]\n",
      " [52 53 54]]\n",
      "[[ 0  1  2  3  4  5]\n",
      " [20 21 22 23 24 25]\n",
      " [50 51 52 53 54 55]]\n",
      "[ 3 23 53]\n"
     ]
    }
   ],
   "source": [
    "a = np.arange(start=0, stop= 60, step=10).reshape((-1,1))+ np.arange(0,6)\n",
    "print(a)\n",
    "\n",
    "print(a[[1,2,3],[2,3,4]])\n",
    "print(a[4, [2,3,4]])\n",
    "print(a[4:, [2,3,4]])\n",
    "\n",
    "i = np.array([True, False, True, False, False, True])\n",
    "print(a[i]) # select rows\n",
    "print(a[i,3])"
   ]
  },
  {
   "cell_type": "code",
   "execution_count": null,
   "metadata": {
    "collapsed": true
   },
   "outputs": [],
   "source": [
    "\n",
    "\n",
    "    # 4.1 numpy与Python数学库的时间比较\n",
    "    # for j in np.logspace(0, 7, 10):\n",
    "    #     j = int(j)\n",
    "    #     x = np.linspace(0, 10, j)\n",
    "    #     start = time.clock()\n",
    "    #     y = np.sin(x)\n",
    "    #     t1 = time.clock() - start\n",
    "    #\n",
    "    #     x = x.tolist()\n",
    "    #     start = time.clock()\n",
    "    #     for i, t in enumerate(x):\n",
    "    #         x[i] = math.sin(t)\n",
    "    #     t2 = time.clock() - start\n",
    "    #     print j, \": \", t1, t2, t2/t1\n",
    "\n",
    "    # 4.2 元素去重\n",
    "    # 4.2.1直接使用库函数\n",
    "    # a = np.array((1, 2, 3, 4, 5, 5, 7, 3, 2, 2, 8, 8))\n",
    "    # print '原始数组：', a\n",
    "    # # # 使用库函数unique\n",
    "    # b = np.unique(a)\n",
    "    # print '去重后：', b\n",
    "    # # # 4.2.2 二维数组的去重，结果会是预期的么？\n",
    "    # c = np.array(((1, 2), (3, 4), (5, 6), (1, 3), (3, 4), (7, 6)))\n",
    "    # print u'二维数组：\\n', c\n",
    "    # print '去重后：', np.unique(c)\n",
    "    # # # 4.2.3 方案1：转换为虚数\n",
    "    # # r, i = np.split(c, (1, ), axis=1)\n",
    "    # # x = r + i * 1j\n",
    "    # x = c[:, 0] + c[:, 1] * 1j\n",
    "    # print '转换成虚数：', x\n",
    "    # print '虚数去重后：', np.unique(x)\n",
    "    # print np.unique(x, return_index=True)   # 思考return_index的意义\n",
    "    # idx = np.unique(x, return_index=True)[1]\n",
    "    # print '二维数组去重：\\n', c[idx]\n",
    "    # # 4.2.3 方案2：利用set\n",
    "    # print '去重方案2：\\n', np.array(list(set([tuple(t) for t in c])))\n",
    "\n",
    "    # 4.3 stack and axis\n",
    "    # a = np.arange(1, 10).reshape((3, 3))\n",
    "    # b = np.arange(11, 20).reshape((3, 3))\n",
    "    # c = np.arange(101, 110).reshape((3, 3))\n",
    "    # print 'a = \\n', a\n",
    "    # print 'b = \\n', b\n",
    "    # print 'c = \\n', c\n",
    "    # print 'axis = 0 \\n', np.stack((a, b, c), axis=0)\n",
    "    # print 'axis = 1 \\n', np.stack((a, b, c), axis=1)\n",
    "    # print 'axis = 2 \\n', np.stack((a, b, c), axis=2)\n",
    "\n",
    "    # a = np.arange(1, 10).reshape(3,3)\n",
    "    # print a\n",
    "    # b = a + 10\n",
    "    # print b\n",
    "    # print np.dot(a, b)\n",
    "    # print a * b\n",
    "\n",
    "    # a = np.arange(1, 10)\n",
    "    # print a\n",
    "    # b = np.arange(20,25)\n",
    "    # print b\n",
    "    # print np.concatenate((a, b))"
   ]
  },
  {
   "cell_type": "code",
   "execution_count": null,
   "metadata": {
    "collapsed": true
   },
   "outputs": [],
   "source": []
  },
  {
   "cell_type": "code",
   "execution_count": null,
   "metadata": {
    "collapsed": true
   },
   "outputs": [],
   "source": []
  },
  {
   "cell_type": "code",
   "execution_count": null,
   "metadata": {
    "collapsed": true
   },
   "outputs": [],
   "source": []
  },
  {
   "cell_type": "code",
   "execution_count": null,
   "metadata": {
    "collapsed": true
   },
   "outputs": [],
   "source": []
  },
  {
   "cell_type": "code",
   "execution_count": null,
   "metadata": {
    "collapsed": true
   },
   "outputs": [],
   "source": []
  },
  {
   "cell_type": "code",
   "execution_count": null,
   "metadata": {
    "collapsed": true
   },
   "outputs": [],
   "source": []
  },
  {
   "cell_type": "code",
   "execution_count": null,
   "metadata": {
    "collapsed": true
   },
   "outputs": [],
   "source": []
  },
  {
   "cell_type": "code",
   "execution_count": null,
   "metadata": {
    "collapsed": true
   },
   "outputs": [],
   "source": []
  },
  {
   "cell_type": "code",
   "execution_count": null,
   "metadata": {
    "collapsed": true
   },
   "outputs": [],
   "source": []
  },
  {
   "cell_type": "code",
   "execution_count": null,
   "metadata": {
    "collapsed": true
   },
   "outputs": [],
   "source": []
  }
 ],
 "metadata": {
  "kernelspec": {
   "display_name": "Python 3",
   "language": "python",
   "name": "python3"
  },
  "language_info": {
   "codemirror_mode": {
    "name": "ipython",
    "version": 3
   },
   "file_extension": ".py",
   "mimetype": "text/x-python",
   "name": "python",
   "nbconvert_exporter": "python",
   "pygments_lexer": "ipython3",
   "version": "3.6.2"
  }
 },
 "nbformat": 4,
 "nbformat_minor": 2
}
