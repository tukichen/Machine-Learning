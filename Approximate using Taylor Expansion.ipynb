{
 "cells": [
  {
   "cell_type": "code",
   "execution_count": null,
   "metadata": {
    "collapsed": true
   },
   "outputs": [],
   "source": [
    "import numpy as np\n",
    "import matplotlib as mpl\n",
    "import matplotlib.pyplot as plt\n",
    "from matplotlib import cm\n",
    "from mpl_toolkits.mplot3d import Axes3D\n",
    "%matplotlib inline\n",
    "\n",
    "import time\n",
    "from scipy import stats\n",
    "from scipy.optimize import leastsq\n",
    "import scipy.optimize as opt\n",
    "from scipy.stats import norm, poisson\n",
    "# from scipy.interpolate import BarycentricInterpolator, CubicSpline\n",
    "\n",
    "import math\n",
    "#import seaborn"
   ]
  },
  {
   "cell_type": "markdown",
   "metadata": {},
   "source": [
    "### Compute $\\pi$"
   ]
  },
  {
   "cell_type": "code",
   "execution_count": 5,
   "metadata": {},
   "outputs": [
    {
     "data": {
      "text/plain": [
       "3.1415831042309486"
      ]
     },
     "execution_count": 5,
     "metadata": {},
     "output_type": "execute_result"
    }
   ],
   "source": [
    "def compute_pi():\n",
    "    return np.sqrt(6 * np.sum(1 / np.arange(1, 100000, dtype=np.float) ** 2))\n",
    "compute_pi()"
   ]
  },
  {
   "cell_type": "markdown",
   "metadata": {},
   "source": [
    "## Use Taylor Expansion to Compute exponential function"
   ]
  },
  {
   "cell_type": "code",
   "execution_count": 15,
   "metadata": {},
   "outputs": [
    {
     "data": {
      "text/plain": [
       "12842.305114638448"
      ]
     },
     "execution_count": 15,
     "metadata": {},
     "output_type": "execute_result"
    }
   ],
   "source": [
    "def calc_e_small(x):\n",
    "    n = 10    \n",
    "    #start= time.clock()     #  start timing\n",
    "    \n",
    "    f = np.arange(1, n+1).cumprod()\n",
    "    b = np.array([x]*n).cumprod()\n",
    "    result = np.sum(b / f) + 1\n",
    "    return result \n",
    "\n",
    "calc_e_small(10)\n"
   ]
  },
  {
   "cell_type": "markdown",
   "metadata": {},
   "source": [
    "- $exp(x)$ will be hard to compute using above method when x is big. \n",
    "- $ a= int(x/ln2 + 0.5) $\n",
    "- $ x = ln2 * x/ln2 = ln2 * a + (x -ln2*a) $\n",
    "- $ y = 2^a + calc_e_small(x - a*ln2) $"
   ]
  },
  {
   "cell_type": "code",
   "execution_count": 27,
   "metadata": {},
   "outputs": [
    {
     "data": {
      "text/plain": [
       "22026.465794806085"
      ]
     },
     "execution_count": 27,
     "metadata": {},
     "output_type": "execute_result"
    }
   ],
   "source": [
    "def calc_e(x):\n",
    "    reverse = False\n",
    "    if x < 0:   # handle negative numbers\n",
    "        x = -x\n",
    "        reverse = True\n",
    "    ln2 = 0.69314718055994530941723212145818\n",
    "    c = x / ln2\n",
    "    a = int(c+0.5)\n",
    "    b = x - a*ln2\n",
    "    y = (2 ** a) * calc_e_small(b)\n",
    "    if reverse:\n",
    "        return 1/y\n",
    "    return y\n",
    "\n",
    "calc_e(10)"
   ]
  },
  {
   "cell_type": "markdown",
   "metadata": {},
   "source": [
    "### Application of Taylor Expansion - Exponetial fuction\n",
    "- Compute simulated values with true values"
   ]
  },
  {
   "cell_type": "code",
   "execution_count": 25,
   "metadata": {},
   "outputs": [
    {
     "name": "stdout",
     "output_type": "stream",
     "text": [
      "[-2.         -1.8        -1.6        -1.4        -1.2        -1.         -0.8\n",
      " -0.6        -0.4        -0.2         0.          0.15789474  0.31578947\n",
      "  0.47368421  0.63157895  0.78947368  0.94736842  1.10526316  1.26315789\n",
      "  1.42105263  1.57894737  1.73684211  1.89473684  2.05263158  2.21052632\n",
      "  2.36842105  2.52631579  2.68421053  2.84210526  3.        ]\n",
      "e^ -2.0  =  0.135335283237 (approx.)\t 0.1353352832366127 (true)\n",
      "e^ -1.8  =  0.165298888222 (approx.)\t 0.16529888822158653 (true)\n",
      "e^ -1.6  =  0.201896517995 (approx.)\t 0.20189651799465538 (true)\n",
      "e^ -1.4  =  0.246596963942 (approx.)\t 0.2465969639416065 (true)\n",
      "e^ -1.2  =  0.301194211912 (approx.)\t 0.30119421191220214 (true)\n",
      "e^ -1.0  =  0.367879441171 (approx.)\t 0.36787944117144233 (true)\n",
      "e^ -0.8  =  0.449328964117 (approx.)\t 0.4493289641172217 (true)\n",
      "e^ -0.6  =  0.548811636094 (approx.)\t 0.5488116360940265 (true)\n",
      "e^ -0.4  =  0.670320046036 (approx.)\t 0.6703200460356393 (true)\n",
      "e^ -0.2  =  0.818730753078 (approx.)\t 0.8187307530779819 (true)\n",
      "e^ 0.0  =  1.0 (approx.)\t 1.0 (true)\n",
      "e^ 0.157894736842  =  1.17104292054 (approx.)\t 1.1710429205438226 (true)\n",
      "e^ 0.315789473684  =  1.37134152176 (approx.)\t 1.3713415217558058 (true)\n",
      "e^ 0.473684210526  =  1.6058997807 (approx.)\t 1.605899780699929 (true)\n",
      "e^ 0.631578947368  =  1.88057756929 (approx.)\t 1.8805775692915292 (true)\n",
      "e^ 0.789473684211  =  2.20223704905 (approx.)\t 2.2022370490523553 (true)\n",
      "e^ 0.947368421053  =  2.57891410565 (approx.)\t 2.57891410565208 (true)\n",
      "e^ 1.10526315789  =  3.02001910611 (approx.)\t 3.020019106114472 (true)\n",
      "e^ 1.26315789474  =  3.53657199412 (approx.)\t 3.5365719941224363 (true)\n",
      "e^ 1.42105263158  =  4.14147759671 (approx.)\t 4.1414775967106285 (true)\n",
      "e^ 1.57894736842  =  4.84984802022 (approx.)\t 4.849848020218827 (true)\n",
      "e^ 1.73684210526  =  5.67938018979 (approx.)\t 5.679380189790731 (true)\n",
      "e^ 1.89473684211  =  6.65079796433 (approx.)\t 6.650797964331267 (true)\n",
      "e^ 2.05263157895  =  7.7883698721 (approx.)\t 7.788369872097396 (true)\n",
      "e^ 2.21052631579  =  9.1205154013 (approx.)\t 9.120515401296455 (true)\n",
      "e^ 2.36842105263  =  10.6805149924 (approx.)\t 10.680514992399115 (true)\n",
      "e^ 2.52631578947  =  12.5073414696 (approx.)\t 12.507341469611145 (true)\n",
      "e^ 2.68421052632  =  14.6466336828 (approx.)\t 14.646633682812302 (true)\n",
      "e^ 2.84210526316  =  17.1518366841 (approx.)\t 17.151836684056047 (true)\n",
      "e^ 3.0  =  20.0855369232 (approx.)\t 20.085536923187668 (true)\n"
     ]
    }
   ],
   "source": [
    "    t1 = np.linspace(-2, 0, 10, endpoint=False)\n",
    "    t2 = np.linspace(0, 3, 20)\n",
    "    t = np.concatenate((t1, t2))\n",
    "    print(t)     # number on axis\n",
    "    y = np.empty_like(t)\n",
    "    for i, x in enumerate(t):\n",
    "        y[i] = calc_e(x)\n",
    "        print ('e^', x, ' = ', y[i], '(approx.)\\t', math.exp(x), '(true)')\n",
    "        # print 'Error：', y[i] - math.exp(x)"
   ]
  },
  {
   "cell_type": "code",
   "execution_count": 26,
   "metadata": {},
   "outputs": [
    {
     "name": "stderr",
     "output_type": "stream",
     "text": [
      "/Users/qiaolinchen/anaconda3/lib/python3.6/site-packages/matplotlib/font_manager.py:1320: UserWarning: findfont: Font family ['sans-serif'] not found. Falling back to DejaVu Sans\n",
      "  (prop.get_family(), self.defaultFamily[fontext]))\n"
     ]
    },
    {
     "data": {
      "image/png": "[encoded data removed]",
      "text/plain": [
       "<matplotlib.figure.Figure at 0x10de57b70>"
      ]
     },
     "metadata": {},
     "output_type": "display_data"
    }
   ],
   "source": [
    "    plt.figure(facecolor='w')\n",
    "    mpl.rcParams['font.sans-serif'] = [u'SimHei']\n",
    "    mpl.rcParams['axes.unicode_minus'] = False\n",
    "    plt.plot(t, y, 'r-', t, y, 'go', linewidth=2)\n",
    "    plt.title(u'Application of Taylor Expansion - Exponetial fuction', fontsize=18)\n",
    "    plt.xlabel('X', fontsize=15)\n",
    "    plt.ylabel('exp(X)', fontsize=15)\n",
    "    plt.grid(True, ls=':')\n",
    "    plt.show()"
   ]
  },
  {
   "cell_type": "markdown",
   "metadata": {},
   "source": [
    "## Use Taylor Expansion to Compute sin() function"
   ]
  },
  {
   "cell_type": "code",
   "execution_count": 29,
   "metadata": {
    "collapsed": true
   },
   "outputs": [],
   "source": [
    "def calc_sin_small(x):\n",
    "    x2 = -x ** 2\n",
    "    t = x\n",
    "    f = 1\n",
    "    sum = 0\n",
    "    for i in range(10):\n",
    "        sum += t / f\n",
    "        t *= x2\n",
    "        f *= ((2*i+2)*(2*i+3))\n",
    "    return sum\n",
    "\n",
    "# Use the periodicity of sin(x)\n",
    "def calc_sin(x):\n",
    "    a = x / (2*np.pi)\n",
    "    k = np.floor(a)\n",
    "    a = x - k*2*np.pi\n",
    "    return calc_sin_small(a)"
   ]
  },
  {
   "cell_type": "code",
   "execution_count": 32,
   "metadata": {},
   "outputs": [
    {
     "name": "stdout",
     "output_type": "stream",
     "text": [
      "[ -6.28318531e+00  -6.15752160e+00  -6.03185789e+00  -5.90619419e+00\n",
      "  -5.78053048e+00  -5.65486678e+00  -5.52920307e+00  -5.40353936e+00\n",
      "  -5.27787566e+00  -5.15221195e+00  -5.02654825e+00  -4.90088454e+00\n",
      "  -4.77522083e+00  -4.64955713e+00  -4.52389342e+00  -4.39822972e+00\n",
      "  -4.27256601e+00  -4.14690230e+00  -4.02123860e+00  -3.89557489e+00\n",
      "  -3.76991118e+00  -3.64424748e+00  -3.51858377e+00  -3.39292007e+00\n",
      "  -3.26725636e+00  -3.14159265e+00  -3.01592895e+00  -2.89026524e+00\n",
      "  -2.76460154e+00  -2.63893783e+00  -2.51327412e+00  -2.38761042e+00\n",
      "  -2.26194671e+00  -2.13628300e+00  -2.01061930e+00  -1.88495559e+00\n",
      "  -1.75929189e+00  -1.63362818e+00  -1.50796447e+00  -1.38230077e+00\n",
      "  -1.25663706e+00  -1.13097336e+00  -1.00530965e+00  -8.79645943e-01\n",
      "  -7.53982237e-01  -6.28318531e-01  -5.02654825e-01  -3.76991118e-01\n",
      "  -2.51327412e-01  -1.25663706e-01   8.88178420e-16   1.25663706e-01\n",
      "   2.51327412e-01   3.76991118e-01   5.02654825e-01   6.28318531e-01\n",
      "   7.53982237e-01   8.79645943e-01   1.00530965e+00   1.13097336e+00\n",
      "   1.25663706e+00   1.38230077e+00   1.50796447e+00   1.63362818e+00\n",
      "   1.75929189e+00   1.88495559e+00   2.01061930e+00   2.13628300e+00\n",
      "   2.26194671e+00   2.38761042e+00   2.51327412e+00   2.63893783e+00\n",
      "   2.76460154e+00   2.89026524e+00   3.01592895e+00   3.14159265e+00\n",
      "   3.26725636e+00   3.39292007e+00   3.51858377e+00   3.64424748e+00\n",
      "   3.76991118e+00   3.89557489e+00   4.02123860e+00   4.14690230e+00\n",
      "   4.27256601e+00   4.39822972e+00   4.52389342e+00   4.64955713e+00\n",
      "   4.77522083e+00   4.90088454e+00   5.02654825e+00   5.15221195e+00\n",
      "   5.27787566e+00   5.40353936e+00   5.52920307e+00   5.65486678e+00\n",
      "   5.78053048e+00   5.90619419e+00   6.03185789e+00   6.15752160e+00]\n",
      "sin( -6.28318530718 ) =  0.0 (Approx)\t 2.4492935982947064e-16 (True)\n",
      "sin( -6.15752160104 ) =  0.125333233564 (Approx)\t 0.12533323356430467 (True)\n",
      "sin( -6.03185789489 ) =  0.248689887165 (Approx)\t 0.24868988716485535 (True)\n",
      "sin( -5.90619418875 ) =  0.368124552685 (Approx)\t 0.3681245526846778 (True)\n",
      "sin( -5.78053048261 ) =  0.481753674102 (Approx)\t 0.4817536741017153 (True)\n",
      "sin( -5.65486677646 ) =  0.587785252292 (Approx)\t 0.5877852522924732 (True)\n",
      "sin( -5.52920307032 ) =  0.684547105929 (Approx)\t 0.684547105928689 (True)\n",
      "sin( -5.40353936417 ) =  0.770513242776 (Approx)\t 0.7705132427757896 (True)\n",
      "sin( -5.27787565803 ) =  0.844327925502 (Approx)\t 0.8443279255020151 (True)\n",
      "sin( -5.15221195189 ) =  0.904827052466 (Approx)\t 0.9048270524660196 (True)\n",
      "sin( -5.02654824574 ) =  0.951056516295 (Approx)\t 0.9510565162951536 (True)\n",
      "sin( -4.9008845396 ) =  0.982287250729 (Approx)\t 0.9822872507286887 (True)\n",
      "sin( -4.77522083346 ) =  0.998026728428 (Approx)\t 0.9980267284282716 (True)\n",
      "sin( -4.64955712731 ) =  0.998026728428 (Approx)\t 0.9980267284282716 (True)\n",
      "sin( -4.52389342117 ) =  0.982287250729 (Approx)\t 0.9822872507286885 (True)\n",
      "sin( -4.39822971503 ) =  0.951056516295 (Approx)\t 0.9510565162951535 (True)\n",
      "sin( -4.27256600888 ) =  0.904827052466 (Approx)\t 0.9048270524660194 (True)\n",
      "sin( -4.14690230274 ) =  0.844327925502 (Approx)\t 0.8443279255020147 (True)\n",
      "sin( -4.02123859659 ) =  0.770513242775 (Approx)\t 0.7705132427757894 (True)\n",
      "sin( -3.89557489045 ) =  0.684547105927 (Approx)\t 0.6845471059286884 (True)\n",
      "sin( -3.76991118431 ) =  0.587785252288 (Approx)\t 0.587785252292473 (True)\n",
      "sin( -3.64424747816 ) =  0.481753674088 (Approx)\t 0.481753674101715 (True)\n",
      "sin( -3.51858377202 ) =  0.368124552648 (Approx)\t 0.36812455268467753 (True)\n",
      "sin( -3.39292006588 ) =  0.248689887073 (Approx)\t 0.24868988716485457 (True)\n",
      "sin( -3.26725635973 ) =  0.12533323334 (Approx)\t 0.12533323356430387 (True)\n",
      "sin( -3.14159265359 ) =  -5.2891910557e-10 (Approx)\t -5.66553889764798e-16 (True)\n",
      "sin( -3.01592894745 ) =  -0.125333234768 (Approx)\t -0.12533323356430454 (True)\n",
      "sin( -2.8902652413 ) =  -0.248689889819 (Approx)\t -0.24868988716485524 (True)\n",
      "sin( -2.76460153516 ) =  -0.368124558371 (Approx)\t -0.36812455268467853 (True)\n",
      "sin( -2.63893782902 ) =  -0.481753685963 (Approx)\t -0.4817536741017156 (True)\n",
      "sin( -2.51327412287 ) =  -0.587785276421 (Approx)\t -0.5877852522924736 (True)\n",
      "sin( -2.38761041673 ) =  -0.684547153876 (Approx)\t -0.6845471059286888 (True)\n",
      "sin( -2.26194671058 ) =  -0.770513335991 (Approx)\t -0.7705132427757896 (True)\n",
      "sin( -2.13628300444 ) =  -0.84432810303 (Approx)\t -0.8443279255020154 (True)\n",
      "sin( -2.0106192983 ) =  -0.904827384089 (Approx)\t -0.9048270524660199 (True)\n",
      "sin( -1.88495559215 ) =  -0.951057124577 (Approx)\t -0.9510565162951536 (True)\n",
      "sin( -1.75929188601 ) =  -0.982288347438 (Approx)\t -0.9822872507286887 (True)\n",
      "sin( -1.63362817987 ) =  -0.998028673849 (Approx)\t -0.9980267284282716 (True)\n",
      "sin( -1.50796447372 ) =  -0.998030126608 (Approx)\t -0.9980267284282716 (True)\n",
      "sin( -1.38230076758 ) =  -0.982293100467 (Approx)\t -0.9822872507286885 (True)\n",
      "sin( -1.25663706144 ) =  -0.951066447544 (Approx)\t -0.9510565162951535 (True)\n",
      "sin( -1.13097335529 ) =  -0.904843692145 (Approx)\t -0.9048270524660195 (True)\n",
      "sin( -1.00530964915 ) =  -0.844355457307 (Approx)\t -0.8443279255020149 (True)\n",
      "sin( -0.879645943005 ) =  -0.770558254809 (Approx)\t -0.7705132427757888 (True)\n",
      "sin( -0.753982236862 ) =  -0.684619861245 (Approx)\t -0.6845471059286882 (True)\n",
      "sin( -0.628318530718 ) =  -0.587901575106 (Approx)\t -0.5877852522924724 (True)\n",
      "sin( -0.502654824574 ) =  -0.481937724358 (Approx)\t -0.4817536741017151 (True)\n",
      "sin( -0.376991118431 ) =  -0.368412871668 (Approx)\t -0.3681245526846776 (True)\n",
      "sin( -0.251327412287 ) =  -0.249137247033 (Approx)\t -0.24868988716485427 (True)\n",
      "sin( -0.125663706144 ) =  -0.126021027336 (Approx)\t -0.12533323356430354 (True)\n",
      "sin( 8.881784197e-16 ) =  8.881784197e-16 (Approx)\t 8.881784197001252e-16 (True)\n",
      "sin( 0.125663706144 ) =  0.125333233564 (Approx)\t 0.12533323356430442 (True)\n",
      "sin( 0.251327412287 ) =  0.248689887165 (Approx)\t 0.24868988716485513 (True)\n",
      "sin( 0.376991118431 ) =  0.368124552685 (Approx)\t 0.3681245526846784 (True)\n",
      "sin( 0.502654824574 ) =  0.481753674102 (Approx)\t 0.4817536741017159 (True)\n",
      "sin( 0.628318530718 ) =  0.587785252292 (Approx)\t 0.5877852522924738 (True)\n",
      "sin( 0.753982236862 ) =  0.684547105929 (Approx)\t 0.6845471059286894 (True)\n",
      "sin( 0.879645943005 ) =  0.770513242776 (Approx)\t 0.7705132427757895 (True)\n",
      "sin( 1.00530964915 ) =  0.844327925502 (Approx)\t 0.8443279255020153 (True)\n",
      "sin( 1.13097335529 ) =  0.904827052466 (Approx)\t 0.9048270524660198 (True)\n",
      "sin( 1.25663706144 ) =  0.951056516295 (Approx)\t 0.9510565162951539 (True)\n",
      "sin( 1.38230076758 ) =  0.982287250729 (Approx)\t 0.9822872507286888 (True)\n",
      "sin( 1.50796447372 ) =  0.998026728428 (Approx)\t 0.9980267284282716 (True)\n",
      "sin( 1.63362817987 ) =  0.998026728428 (Approx)\t 0.9980267284282716 (True)\n",
      "sin( 1.75929188601 ) =  0.982287250729 (Approx)\t 0.9822872507286886 (True)\n",
      "sin( 1.88495559215 ) =  0.951056516295 (Approx)\t 0.9510565162951536 (True)\n",
      "sin( 2.0106192983 ) =  0.904827052466 (Approx)\t 0.9048270524660191 (True)\n",
      "sin( 2.13628300444 ) =  0.844327925502 (Approx)\t 0.844327925502015 (True)\n",
      "sin( 2.26194671058 ) =  0.770513242775 (Approx)\t 0.7705132427757884 (True)\n",
      "sin( 2.38761041673 ) =  0.684547105927 (Approx)\t 0.6845471059286883 (True)\n",
      "sin( 2.51327412287 ) =  0.587785252288 (Approx)\t 0.5877852522924732 (True)\n",
      "sin( 2.63893782902 ) =  0.481753674088 (Approx)\t 0.48175367410171444 (True)\n",
      "sin( 2.76460153516 ) =  0.368124552648 (Approx)\t 0.3681245526846777 (True)\n",
      "sin( 2.8902652413 ) =  0.248689887073 (Approx)\t 0.24868988716485352 (True)\n",
      "sin( 3.01592894745 ) =  0.12533323334 (Approx)\t 0.12533323356430365 (True)\n",
      "sin( 3.14159265359 ) =  -5.28918267297e-10 (Approx)\t 1.2246467991473532e-16 (True)\n",
      "sin( 3.26725635973 ) =  -0.125333234768 (Approx)\t -0.1253332335643052 (True)\n",
      "sin( 3.39292006588 ) =  -0.248689889819 (Approx)\t -0.24868988716485502 (True)\n",
      "sin( 3.51858377202 ) =  -0.368124558371 (Approx)\t -0.36812455268467914 (True)\n",
      "sin( 3.64424747816 ) =  -0.481753685963 (Approx)\t -0.48175367410171577 (True)\n",
      "sin( 3.76991118431 ) =  -0.587785276421 (Approx)\t -0.587785252292473 (True)\n",
      "sin( 3.89557489045 ) =  -0.684547153876 (Approx)\t -0.6845471059286894 (True)\n",
      "sin( 4.02123859659 ) =  -0.770513335991 (Approx)\t -0.7705132427757894 (True)\n",
      "sin( 4.14690230274 ) =  -0.84432810303 (Approx)\t -0.8443279255020157 (True)\n",
      "sin( 4.27256600888 ) =  -0.904827384089 (Approx)\t -0.9048270524660198 (True)\n",
      "sin( 4.39822971503 ) =  -0.951057124577 (Approx)\t -0.9510565162951541 (True)\n",
      "sin( 4.52389342117 ) =  -0.982288347438 (Approx)\t -0.9822872507286888 (True)\n",
      "sin( 4.64955712731 ) =  -0.998028673849 (Approx)\t -0.9980267284282716 (True)\n",
      "sin( 4.77522083346 ) =  -0.998030126608 (Approx)\t -0.9980267284282714 (True)\n",
      "sin( 4.9008845396 ) =  -0.982293100467 (Approx)\t -0.9822872507286886 (True)\n",
      "sin( 5.02654824574 ) =  -0.951066447544 (Approx)\t -0.9510565162951531 (True)\n",
      "sin( 5.15221195189 ) =  -0.904843692145 (Approx)\t -0.9048270524660191 (True)\n",
      "sin( 5.27787565803 ) =  -0.844355457307 (Approx)\t -0.8443279255020151 (True)\n",
      "sin( 5.40353936417 ) =  -0.770558254809 (Approx)\t -0.7705132427757885 (True)\n",
      "sin( 5.52920307032 ) =  -0.684619861245 (Approx)\t -0.6845471059286883 (True)\n",
      "sin( 5.65486677646 ) =  -0.587901575106 (Approx)\t -0.5877852522924718 (True)\n",
      "sin( 5.78053048261 ) =  -0.481937724358 (Approx)\t -0.48175367410171455 (True)\n",
      "sin( 5.90619418875 ) =  -0.368412871668 (Approx)\t -0.3681245526846778 (True)\n",
      "sin( 6.03185789489 ) =  -0.249137247033 (Approx)\t -0.24868988716485363 (True)\n",
      "sin( 6.15752160104 ) =  -0.126021027336 (Approx)\t -0.1253332335643038 (True)\n"
     ]
    }
   ],
   "source": [
    "    t = np.linspace(-2*np.pi, 2*np.pi, 100, endpoint=False)\n",
    "    print (t)     # 横轴数据\n",
    "    y = np.empty_like(t)\n",
    "    for i, x in enumerate(t):\n",
    "        y[i] = calc_sin(x)\n",
    "        print ('sin(', x, ') = ', y[i], '(Approx)\\t', math.sin(x), '(True)' )\n",
    "        # print ('误差：', y[i] - math.exp(x))\n"
   ]
  },
  {
   "cell_type": "code",
   "execution_count": 33,
   "metadata": {},
   "outputs": [
    {
     "name": "stderr",
     "output_type": "stream",
     "text": [
      "/Users/qiaolinchen/anaconda3/lib/python3.6/site-packages/matplotlib/font_manager.py:1320: UserWarning: findfont: Font family ['sans-serif'] not found. Falling back to DejaVu Sans\n",
      "  (prop.get_family(), self.defaultFamily[fontext]))\n"
     ]
    },
    {
     "data": {
      "image/png": "[encoded data removed]",
      "text/plain": [
       "<matplotlib.figure.Figure at 0x10dd8e470>"
      ]
     },
     "metadata": {},
     "output_type": "display_data"
    }
   ],
   "source": [
    "    mpl.rcParams['font.sans-serif'] = [u'SimHei']\n",
    "    mpl.rcParams['axes.unicode_minus'] = False\n",
    "    plt.figure(facecolor='w')\n",
    "    plt.plot(t, y, 'r-', t, y, 'go', linewidth=2)\n",
    "    plt.title(u'Application of Taylor Expansion - sin function', fontsize=18)\n",
    "    plt.xlabel('X', fontsize=15)\n",
    "    plt.ylabel('sin(X)', fontsize=15)\n",
    "    plt.xlim((-7, 7))\n",
    "    plt.ylim((-1.1, 1.1))\n",
    "    plt.grid(True)\n",
    "    plt.show()"
   ]
  },
  {
   "cell_type": "code",
   "execution_count": null,
   "metadata": {
    "collapsed": true
   },
   "outputs": [],
   "source": []
  }
 ],
 "metadata": {
  "kernelspec": {
   "display_name": "Python 3",
   "language": "python",
   "name": "python3"
  },
  "language_info": {
   "codemirror_mode": {
    "name": "ipython",
    "version": 3
   },
   "file_extension": ".py",
   "mimetype": "text/x-python",
   "name": "python",
   "nbconvert_exporter": "python",
   "pygments_lexer": "ipython3",
   "version": "3.6.2"
  }
 },
 "nbformat": 4,
 "nbformat_minor": 2
}
